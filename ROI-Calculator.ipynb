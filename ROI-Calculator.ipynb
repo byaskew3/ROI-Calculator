{
 "cells": [
  {
   "cell_type": "code",
   "execution_count": 13,
   "source": [
    "# Skeleton code\r\n",
    "# 1. Create a class called \"calculator\"\r\n",
    "# 2. Create \r\n",
    "\r\n",
    "\r\n",
    "\r\n",
    "\r\n",
    "\r\n",
    "class Calculator():\r\n",
    "    def __init__(self):\r\n",
    "        total = int(input(\"What is the total price of the house?\"))\r\n",
    "        self.total = total\r\n",
    "    \r\n",
    "    def calcs(self):\r\n",
    "        Calculator.cash_flow(self)\r\n",
    "        Calculator.roi(self)\r\n",
    "\r\n",
    "    def income(self):\r\n",
    "        rental_income = int(input(\"Total Rental Income? \"))\r\n",
    "        misc = int(input(\"Total of any other sources of income? \")  )\r\n",
    "        total_income = rental_income + misc\r\n",
    "        print(f\"Your total monthly income = {total_income}\")\r\n",
    "        return total_income\r\n",
    "    \r\n",
    "    def expenses(self):\r\n",
    "        mortgage = int(input(\"How much will your Mortgage be? \"))\r\n",
    "        tax = int(input(\"How much will your taxes be? \"))\r\n",
    "        insurance = int(input(\"What insurance rate will you have? \"))\r\n",
    "        utilities = int(input(\"How much will utilities be per month? \"))\r\n",
    "        hoa = int(input(\"How much are HOA fees? \"))\r\n",
    "        lawn_care = int(input(\"How much is the lawn service fee? \"))\r\n",
    "        vacancy = int(input(\"How much will you set aside per month for vacancy? \"))\r\n",
    "        repairs = int(input(\"How much will you set aside per month for repairs? \"))\r\n",
    "        capex = int(input(\"How much will you set aside per month for capital expenditures? \"))\r\n",
    "        management = int(input(\"How much will your Property Manager cost per month? \"))\r\n",
    "        total_expenses = mortgage + tax + insurance + utilities + hoa + lawn_care + vacancy + repairs + capex + management\r\n",
    "        print(f\"Your total monthly expenses = {total_expenses}\")\r\n",
    "        return total_expenses\r\n",
    "\r\n",
    "    def cash_flow(self):\r\n",
    "        total_cash_flow = self.income() - self.expenses()\r\n",
    "        self.total_cash_flow = total_cash_flow\r\n",
    "        print(f\"Your monthly Cash Flow = {total_cash_flow}\")\r\n",
    "        return total_cash_flow\r\n",
    "    \r\n",
    "    def roi(self):\r\n",
    "        down_payment = int(input(\"Your downpayment is: \"))\r\n",
    "        closing_cost = int(input(\"How much is the closing cost? \"))\r\n",
    "        rehab_budget = int(input(\"How much do you plan on rehab? \"))\r\n",
    "        misc = int(input(\"How much for Miscellaneous repairs/renovations? \"))\r\n",
    "        total_investment = down_payment + closing_cost + rehab_budget + misc\r\n",
    "        annual_cash_flow = self.total_cash_flow * 12\r\n",
    "        cash_roi = (annual_cash_flow / total_investment) * 100\r\n",
    "        print(f\"Your Cash on Cash ROI = {cash_roi}\")\r\n",
    "\r\n",
    "\r\n",
    "def call_func():\r\n",
    "    my_total = Calculator()\r\n",
    "    my_total.calcs()\r\n",
    "\r\n",
    "call_func()"
   ],
   "outputs": [
    {
     "output_type": "stream",
     "name": "stdout",
     "text": [
      "Your total monthly income = 2000\n",
      "Your total monthly expenses = 1610\n",
      "Your monthly Cash Flow = 390\n",
      "Your Cash on Cash ROI = 9.36\n"
     ]
    }
   ],
   "metadata": {}
  }
 ],
 "metadata": {
  "orig_nbformat": 4,
  "language_info": {
   "name": "python",
   "version": "3.9.6",
   "mimetype": "text/x-python",
   "codemirror_mode": {
    "name": "ipython",
    "version": 3
   },
   "pygments_lexer": "ipython3",
   "nbconvert_exporter": "python",
   "file_extension": ".py"
  },
  "kernelspec": {
   "name": "python3",
   "display_name": "Python 3.9.6 64-bit"
  },
  "interpreter": {
   "hash": "57990f1ad2ea89c67ddae7f31d40c478205c5912da0fccfb7c5cfbb2b8bf17ad"
  }
 },
 "nbformat": 4,
 "nbformat_minor": 2
}